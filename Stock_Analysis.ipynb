{
 "cells": [
  {
   "cell_type": "code",
   "execution_count": 2,
   "id": "05c75c66",
   "metadata": {},
   "outputs": [],
   "source": [
    "from pandas_datareader import data \n",
    "import datetime\n",
    "from bokeh.plotting import figure, show, output_file\n",
    "\n",
    "\n",
    "start = datetime.datetime(2020,3, 1)\n",
    "end = datetime.datetime(2020, 3, 10)\n",
    "\n",
    "df = data.DataReader(name=\"GOOG\", data_source=\"yahoo\", start=start, end=end)\n"
   ]
  },
  {
   "cell_type": "code",
   "execution_count": null,
   "id": "462c120c",
   "metadata": {},
   "outputs": [],
   "source": [
    "p = figure(x_axis_type = 'datetime', width=1000, height=300)\n",
    "p.title.text = \"CandleStick Chart\"\n",
    "\n",
    "p.rect(df.index[df.Close > df.Open], (df.Open+df.Close)/2)"
   ]
  }
 ],
 "metadata": {
  "kernelspec": {
   "display_name": "Python 3",
   "language": "python",
   "name": "python3"
  },
  "language_info": {
   "codemirror_mode": {
    "name": "ipython",
    "version": 3
   },
   "file_extension": ".py",
   "mimetype": "text/x-python",
   "name": "python",
   "nbconvert_exporter": "python",
   "pygments_lexer": "ipython3",
   "version": "3.8.8"
  }
 },
 "nbformat": 4,
 "nbformat_minor": 5
}
